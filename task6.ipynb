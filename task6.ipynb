{
 "cells": [
  {
   "cell_type": "markdown",
   "metadata": {},
   "source": [
    "## web scarping"
   ]
  },
  {
   "cell_type": "code",
   "execution_count": 3,
   "metadata": {},
   "outputs": [
    {
     "name": "stdout",
     "output_type": "stream",
     "text": [
      "Collecting requests\n",
      "  Downloading requests-2.24.0-py2.py3-none-any.whl (61 kB)\n",
      "Collecting chardet<4,>=3.0.2\n",
      "  Downloading chardet-3.0.4-py2.py3-none-any.whl (133 kB)\n",
      "Requirement already satisfied: certifi>=2017.4.17 in c:\\users\\thangaraj\\desktop\\student_project\\env\\lib\\site-packages (from requests) (2020.6.20)\n",
      "Collecting urllib3!=1.25.0,!=1.25.1,<1.26,>=1.21.1\n",
      "  Downloading urllib3-1.25.11-py2.py3-none-any.whl (127 kB)\n",
      "Collecting idna<3,>=2.5\n",
      "  Downloading idna-2.10-py2.py3-none-any.whl (58 kB)\n",
      "Installing collected packages: chardet, urllib3, idna, requests\n",
      "Successfully installed chardet-3.0.4 idna-2.10 requests-2.24.0 urllib3-1.25.11\n"
     ]
    }
   ],
   "source": [
    "!pip install requests"
   ]
  },
  {
   "cell_type": "code",
   "execution_count": 6,
   "metadata": {},
   "outputs": [
    {
     "name": "stdout",
     "output_type": "stream",
     "text": [
      "Collecting beautifulsoup4\n",
      "  Downloading beautifulsoup4-4.9.3-py3-none-any.whl (115 kB)\n",
      "Collecting soupsieve>1.2; python_version >= \"3.0\"\n",
      "  Downloading soupsieve-2.0.1-py3-none-any.whl (32 kB)\n",
      "Installing collected packages: soupsieve, beautifulsoup4\n",
      "Successfully installed beautifulsoup4-4.9.3 soupsieve-2.0.1\n"
     ]
    }
   ],
   "source": [
    "!pip install beautifulsoup4"
   ]
  },
  {
   "cell_type": "code",
   "execution_count": 78,
   "metadata": {},
   "outputs": [
    {
     "name": "stdout",
     "output_type": "stream",
     "text": [
      "Collecting html5lib\n",
      "  Downloading html5lib-1.1-py2.py3-none-any.whl (112 kB)\n",
      "Requirement already satisfied: six>=1.9 in c:\\users\\thangaraj\\desktop\\student_project\\env\\lib\\site-packages (from html5lib) (1.15.0)\n",
      "Requirement already satisfied: webencodings in c:\\users\\thangaraj\\desktop\\student_project\\env\\lib\\site-packages (from html5lib) (0.5.1)\n",
      "Installing collected packages: html5lib\n",
      "Successfully installed html5lib-1.1\n"
     ]
    }
   ],
   "source": [
    "!pip install html5lib"
   ]
  },
  {
   "cell_type": "code",
   "execution_count": 170,
   "metadata": {},
   "outputs": [],
   "source": [
    "#importing required packages\n",
    "import numpy as np\n",
    "import matplotlib.pyplot as plt\n",
    "%matplotlib inline\n",
    "import pandas as pd\n",
    "import requests\n",
    "from bs4 import BeautifulSoup\n",
    "import seaborn as sns"
   ]
  },
  {
   "cell_type": "code",
   "execution_count": 80,
   "metadata": {},
   "outputs": [],
   "source": [
    "#sending request to the server\n",
    "url='https://finance.yahoo.com/u/yahoo-finance/watchlists/the-berkshire-hathaway-portfolio?.tsrc=fin-srch'\n",
    "#assigning the requested value into a variable\n",
    "page=requests.get(url)\n",
    "#displying the variable's text,now we have the html data of the page\n",
    "# page.text"
   ]
  },
  {
   "cell_type": "code",
   "execution_count": 81,
   "metadata": {
    "scrolled": true
   },
   "outputs": [],
   "source": [
    "#now we will separate the data we need\n",
    "soup=BeautifulSoup(page.text,'html.parser')\n",
    "# soup.text#got only the details of page content excluding html"
   ]
  },
  {
   "cell_type": "code",
   "execution_count": 109,
   "metadata": {},
   "outputs": [
    {
     "name": "stdout",
     "output_type": "stream",
     "text": [
      "Watchlist\n",
      "Change Today\n",
      "1 Month Return\n",
      "1 Year Return\n",
      "Total Return\n",
      "Symbol\n",
      "Company Name\n",
      "Last Price\n",
      "Change\n",
      "% Change\n",
      "Market Time\n",
      "Volume\n",
      "Avg Vol (3 month)\n",
      "Market Cap\n"
     ]
    }
   ],
   "source": [
    "#extracting the header data\n",
    "for i in soup.select('th'):\n",
    "    print(i.text)\n"
   ]
  },
  {
   "cell_type": "code",
   "execution_count": 193,
   "metadata": {},
   "outputs": [
    {
     "name": "stdout",
     "output_type": "stream",
     "text": [
      "[]\n",
      "['AAPL', 'Apple Inc.', '117.8011', '+0.29', '+0.25%', '11:56 AM EDT', '36.44M', '174.07M', '2,014.69B']\n",
      "['BAC', 'Bank of America Corporation', '24.175', '+0.03', '+0.14%', '11:56 AM EDT', '17.62M', '58.50M', '209.39B']\n",
      "['CHTR', 'Charter Communications, Inc.', '607.65', '-0.61', '-0.10%', '11:55 AM EDT', '185.50k', '918.68k', '124.51B']\n",
      "['MDLZ', 'Mondelez International, Inc.', '56.855', '-0.13', '-0.22%', '11:56 AM EDT', '1.47M', '5.89M', '81.21B']\n",
      "['USB', 'U.S. Bancorp', '39.1383', '-0.07', '-0.18%', '11:56 AM EDT', '1.55M', '6.28M', '58.96B']\n",
      "['KHC', 'The Kraft Heinz Company', '31.6582', '-0.33', '-1.04%', '11:56 AM EDT', '917.53k', '6.03M', '38.70B']\n",
      "['BK', 'The Bank of New York Mellon Corporation', '37.24', '+0.14', '+0.38%', '11:56 AM EDT', '1.65M', '4.85M', '33.00B']\n",
      "['DAL', 'Delta Air Lines, Inc.', '31.71', '-0.27', '-0.84%', '11:56 AM EDT', '5.06M', '20.41M', '20.22B']\n",
      "['STNE', 'StoneCo Ltd.', '60.17', '+0.97', '+1.64%', '11:56 AM EDT', '724.60k', '2.55M', '18.58B']\n",
      "['LSXMK', 'The Liberty SiriusXM Group', '35.63', '+0.41', '+1.16%', '11:51 AM EDT', '170.42k', '831.10k', '13.73B']\n",
      "['MTB', 'M&T Bank Corporation', '100.105', '+0.69', '+0.69%', '11:56 AM EDT', '249.43k', '825.70k', '12.84B']\n",
      "['LBTYA', 'Liberty Global plc', '20.975', '-0.32', '-1.53%', '11:56 AM EDT', '314.06k', '1.28M', '12.36B']\n",
      "['DVA', 'DaVita Inc.', '89.895', '+0.19', '+0.22%', '11:56 AM EDT', '208.97k', '1.09M', '10.97B']\n",
      "['GL', 'Globe Life Inc.', '84.06', '+0.61', '+0.73%', '11:56 AM EDT', '98.17k', '475.46k', '8.95B']\n",
      "['LILA', 'Liberty Latin America Ltd.', '10.57', '-', '-', '11:50 AM EDT', '54.89k', '295.90k', '2.03B']\n",
      "['LILAK', 'Liberty Latin America Ltd.', '10.46', '-0.02', '-0.19%', '11:56 AM EDT', '261.74k', '1.49M', '2.01B']\n"
     ]
    }
   ],
   "source": [
    "#separating the data rows\n",
    "table = soup.find('table', attrs={'class':'cwl-symbols W(100%)'})\n",
    "table_rows = table.find_all('tr')\n",
    "\n",
    "for tr in table_rows:\n",
    "    td = tr.find_all('td')\n",
    "    row = [tr.text for tr in td]\n",
    "    print(row) \n"
   ]
  },
  {
   "cell_type": "code",
   "execution_count": 194,
   "metadata": {},
   "outputs": [],
   "source": [
    "#creating a dataframe and putting them into a dataframe\n",
    "l = []\n",
    "for tr in table_rows:\n",
    "   \n",
    "    td = tr.find_all('td')\n",
    "    row = [tr.text for tr in td]\n",
    "    l.append(row)\n",
    "stock=pd.DataFrame(l, columns=['Symbol','Company Name','Last Price','Change','% Change','Market Time','Volume','Avg Vol (3 month)','Market cap'])"
   ]
  },
  {
   "cell_type": "code",
   "execution_count": 195,
   "metadata": {},
   "outputs": [
    {
     "data": {
      "text/html": [
       "<div>\n",
       "<style scoped>\n",
       "    .dataframe tbody tr th:only-of-type {\n",
       "        vertical-align: middle;\n",
       "    }\n",
       "\n",
       "    .dataframe tbody tr th {\n",
       "        vertical-align: top;\n",
       "    }\n",
       "\n",
       "    .dataframe thead th {\n",
       "        text-align: right;\n",
       "    }\n",
       "</style>\n",
       "<table border=\"1\" class=\"dataframe\">\n",
       "  <thead>\n",
       "    <tr style=\"text-align: right;\">\n",
       "      <th></th>\n",
       "      <th>Symbol</th>\n",
       "      <th>Company Name</th>\n",
       "      <th>Last Price</th>\n",
       "      <th>Change</th>\n",
       "      <th>% Change</th>\n",
       "      <th>Market Time</th>\n",
       "      <th>Volume</th>\n",
       "      <th>Avg Vol (3 month)</th>\n",
       "      <th>Market cap</th>\n",
       "    </tr>\n",
       "  </thead>\n",
       "  <tbody>\n",
       "    <tr>\n",
       "      <th>0</th>\n",
       "      <td>None</td>\n",
       "      <td>None</td>\n",
       "      <td>None</td>\n",
       "      <td>None</td>\n",
       "      <td>None</td>\n",
       "      <td>None</td>\n",
       "      <td>None</td>\n",
       "      <td>None</td>\n",
       "      <td>None</td>\n",
       "    </tr>\n",
       "    <tr>\n",
       "      <th>1</th>\n",
       "      <td>AAPL</td>\n",
       "      <td>Apple Inc.</td>\n",
       "      <td>117.8011</td>\n",
       "      <td>+0.29</td>\n",
       "      <td>+0.25%</td>\n",
       "      <td>11:56 AM EDT</td>\n",
       "      <td>36.44M</td>\n",
       "      <td>174.07M</td>\n",
       "      <td>2,014.69B</td>\n",
       "    </tr>\n",
       "    <tr>\n",
       "      <th>2</th>\n",
       "      <td>BAC</td>\n",
       "      <td>Bank of America Corporation</td>\n",
       "      <td>24.175</td>\n",
       "      <td>+0.03</td>\n",
       "      <td>+0.14%</td>\n",
       "      <td>11:56 AM EDT</td>\n",
       "      <td>17.62M</td>\n",
       "      <td>58.50M</td>\n",
       "      <td>209.39B</td>\n",
       "    </tr>\n",
       "    <tr>\n",
       "      <th>3</th>\n",
       "      <td>CHTR</td>\n",
       "      <td>Charter Communications, Inc.</td>\n",
       "      <td>607.65</td>\n",
       "      <td>-0.61</td>\n",
       "      <td>-0.10%</td>\n",
       "      <td>11:55 AM EDT</td>\n",
       "      <td>185.50k</td>\n",
       "      <td>918.68k</td>\n",
       "      <td>124.51B</td>\n",
       "    </tr>\n",
       "    <tr>\n",
       "      <th>4</th>\n",
       "      <td>MDLZ</td>\n",
       "      <td>Mondelez International, Inc.</td>\n",
       "      <td>56.855</td>\n",
       "      <td>-0.13</td>\n",
       "      <td>-0.22%</td>\n",
       "      <td>11:56 AM EDT</td>\n",
       "      <td>1.47M</td>\n",
       "      <td>5.89M</td>\n",
       "      <td>81.21B</td>\n",
       "    </tr>\n",
       "  </tbody>\n",
       "</table>\n",
       "</div>"
      ],
      "text/plain": [
       "  Symbol                  Company Name Last Price Change % Change  \\\n",
       "0   None                          None       None   None     None   \n",
       "1   AAPL                    Apple Inc.   117.8011  +0.29   +0.25%   \n",
       "2    BAC   Bank of America Corporation     24.175  +0.03   +0.14%   \n",
       "3   CHTR  Charter Communications, Inc.     607.65  -0.61   -0.10%   \n",
       "4   MDLZ  Mondelez International, Inc.     56.855  -0.13   -0.22%   \n",
       "\n",
       "    Market Time   Volume Avg Vol (3 month) Market cap  \n",
       "0          None     None              None       None  \n",
       "1  11:56 AM EDT   36.44M           174.07M  2,014.69B  \n",
       "2  11:56 AM EDT   17.62M            58.50M    209.39B  \n",
       "3  11:55 AM EDT  185.50k           918.68k    124.51B  \n",
       "4  11:56 AM EDT    1.47M             5.89M     81.21B  "
      ]
     },
     "execution_count": 195,
     "metadata": {},
     "output_type": "execute_result"
    }
   ],
   "source": [
    "stock.head()#finally prepared out dataframes"
   ]
  },
  {
   "cell_type": "code",
   "execution_count": 196,
   "metadata": {},
   "outputs": [
    {
     "data": {
      "text/html": [
       "<div>\n",
       "<style scoped>\n",
       "    .dataframe tbody tr th:only-of-type {\n",
       "        vertical-align: middle;\n",
       "    }\n",
       "\n",
       "    .dataframe tbody tr th {\n",
       "        vertical-align: top;\n",
       "    }\n",
       "\n",
       "    .dataframe thead th {\n",
       "        text-align: right;\n",
       "    }\n",
       "</style>\n",
       "<table border=\"1\" class=\"dataframe\">\n",
       "  <thead>\n",
       "    <tr style=\"text-align: right;\">\n",
       "      <th></th>\n",
       "      <th>Symbol</th>\n",
       "      <th>Company Name</th>\n",
       "      <th>Last Price</th>\n",
       "      <th>Change</th>\n",
       "      <th>% Change</th>\n",
       "      <th>Market Time</th>\n",
       "      <th>Volume</th>\n",
       "      <th>Avg Vol (3 month)</th>\n",
       "      <th>Market cap</th>\n",
       "    </tr>\n",
       "  </thead>\n",
       "  <tbody>\n",
       "    <tr>\n",
       "      <th>count</th>\n",
       "      <td>16</td>\n",
       "      <td>16</td>\n",
       "      <td>16</td>\n",
       "      <td>16</td>\n",
       "      <td>16</td>\n",
       "      <td>16</td>\n",
       "      <td>16</td>\n",
       "      <td>16</td>\n",
       "      <td>16</td>\n",
       "    </tr>\n",
       "    <tr>\n",
       "      <th>unique</th>\n",
       "      <td>16</td>\n",
       "      <td>15</td>\n",
       "      <td>16</td>\n",
       "      <td>16</td>\n",
       "      <td>16</td>\n",
       "      <td>4</td>\n",
       "      <td>16</td>\n",
       "      <td>16</td>\n",
       "      <td>16</td>\n",
       "    </tr>\n",
       "    <tr>\n",
       "      <th>top</th>\n",
       "      <td>MTB</td>\n",
       "      <td>Liberty Latin America Ltd.</td>\n",
       "      <td>35.63</td>\n",
       "      <td>+0.03</td>\n",
       "      <td>+0.14%</td>\n",
       "      <td>11:56 AM EDT</td>\n",
       "      <td>98.17k</td>\n",
       "      <td>20.41M</td>\n",
       "      <td>20.22B</td>\n",
       "    </tr>\n",
       "    <tr>\n",
       "      <th>freq</th>\n",
       "      <td>1</td>\n",
       "      <td>2</td>\n",
       "      <td>1</td>\n",
       "      <td>1</td>\n",
       "      <td>1</td>\n",
       "      <td>13</td>\n",
       "      <td>1</td>\n",
       "      <td>1</td>\n",
       "      <td>1</td>\n",
       "    </tr>\n",
       "  </tbody>\n",
       "</table>\n",
       "</div>"
      ],
      "text/plain": [
       "       Symbol                Company Name Last Price Change % Change  \\\n",
       "count      16                          16         16     16       16   \n",
       "unique     16                          15         16     16       16   \n",
       "top       MTB  Liberty Latin America Ltd.      35.63  +0.03   +0.14%   \n",
       "freq        1                           2          1      1        1   \n",
       "\n",
       "         Market Time  Volume Avg Vol (3 month) Market cap  \n",
       "count             16      16                16         16  \n",
       "unique             4      16                16         16  \n",
       "top     11:56 AM EDT  98.17k            20.41M     20.22B  \n",
       "freq              13       1                 1          1  "
      ]
     },
     "execution_count": 196,
     "metadata": {},
     "output_type": "execute_result"
    }
   ],
   "source": [
    "stock.describe()"
   ]
  },
  {
   "cell_type": "code",
   "execution_count": 197,
   "metadata": {},
   "outputs": [
    {
     "data": {
      "text/plain": [
       "Symbol               1\n",
       "Company Name         1\n",
       "Last Price           1\n",
       "Change               1\n",
       "% Change             1\n",
       "Market Time          1\n",
       "Volume               1\n",
       "Avg Vol (3 month)    1\n",
       "Market cap           1\n",
       "dtype: int64"
      ]
     },
     "execution_count": 197,
     "metadata": {},
     "output_type": "execute_result"
    }
   ],
   "source": [
    "stock.isna().sum()"
   ]
  },
  {
   "cell_type": "code",
   "execution_count": 198,
   "metadata": {},
   "outputs": [],
   "source": [
    "stock.dropna(inplace=True)"
   ]
  },
  {
   "cell_type": "code",
   "execution_count": 199,
   "metadata": {},
   "outputs": [
    {
     "data": {
      "text/plain": [
       "Symbol               0\n",
       "Company Name         0\n",
       "Last Price           0\n",
       "Change               0\n",
       "% Change             0\n",
       "Market Time          0\n",
       "Volume               0\n",
       "Avg Vol (3 month)    0\n",
       "Market cap           0\n",
       "dtype: int64"
      ]
     },
     "execution_count": 199,
     "metadata": {},
     "output_type": "execute_result"
    }
   ],
   "source": [
    "stock.isna().sum()"
   ]
  },
  {
   "cell_type": "code",
   "execution_count": 200,
   "metadata": {},
   "outputs": [
    {
     "data": {
      "text/html": [
       "<div>\n",
       "<style scoped>\n",
       "    .dataframe tbody tr th:only-of-type {\n",
       "        vertical-align: middle;\n",
       "    }\n",
       "\n",
       "    .dataframe tbody tr th {\n",
       "        vertical-align: top;\n",
       "    }\n",
       "\n",
       "    .dataframe thead th {\n",
       "        text-align: right;\n",
       "    }\n",
       "</style>\n",
       "<table border=\"1\" class=\"dataframe\">\n",
       "  <thead>\n",
       "    <tr style=\"text-align: right;\">\n",
       "      <th></th>\n",
       "      <th>Symbol</th>\n",
       "      <th>Company Name</th>\n",
       "      <th>Last Price</th>\n",
       "      <th>Change</th>\n",
       "      <th>% Change</th>\n",
       "      <th>Market Time</th>\n",
       "      <th>Volume</th>\n",
       "      <th>Avg Vol (3 month)</th>\n",
       "      <th>Market cap</th>\n",
       "    </tr>\n",
       "  </thead>\n",
       "  <tbody>\n",
       "    <tr>\n",
       "      <th>1</th>\n",
       "      <td>AAPL</td>\n",
       "      <td>Apple Inc.</td>\n",
       "      <td>117.8011</td>\n",
       "      <td>+0.29</td>\n",
       "      <td>+0.25%</td>\n",
       "      <td>11:56 AM EDT</td>\n",
       "      <td>36.44M</td>\n",
       "      <td>174.07M</td>\n",
       "      <td>2,014.69B</td>\n",
       "    </tr>\n",
       "    <tr>\n",
       "      <th>2</th>\n",
       "      <td>BAC</td>\n",
       "      <td>Bank of America Corporation</td>\n",
       "      <td>24.175</td>\n",
       "      <td>+0.03</td>\n",
       "      <td>+0.14%</td>\n",
       "      <td>11:56 AM EDT</td>\n",
       "      <td>17.62M</td>\n",
       "      <td>58.50M</td>\n",
       "      <td>209.39B</td>\n",
       "    </tr>\n",
       "    <tr>\n",
       "      <th>3</th>\n",
       "      <td>CHTR</td>\n",
       "      <td>Charter Communications, Inc.</td>\n",
       "      <td>607.65</td>\n",
       "      <td>-0.61</td>\n",
       "      <td>-0.10%</td>\n",
       "      <td>11:55 AM EDT</td>\n",
       "      <td>185.50k</td>\n",
       "      <td>918.68k</td>\n",
       "      <td>124.51B</td>\n",
       "    </tr>\n",
       "    <tr>\n",
       "      <th>4</th>\n",
       "      <td>MDLZ</td>\n",
       "      <td>Mondelez International, Inc.</td>\n",
       "      <td>56.855</td>\n",
       "      <td>-0.13</td>\n",
       "      <td>-0.22%</td>\n",
       "      <td>11:56 AM EDT</td>\n",
       "      <td>1.47M</td>\n",
       "      <td>5.89M</td>\n",
       "      <td>81.21B</td>\n",
       "    </tr>\n",
       "    <tr>\n",
       "      <th>5</th>\n",
       "      <td>USB</td>\n",
       "      <td>U.S. Bancorp</td>\n",
       "      <td>39.1383</td>\n",
       "      <td>-0.07</td>\n",
       "      <td>-0.18%</td>\n",
       "      <td>11:56 AM EDT</td>\n",
       "      <td>1.55M</td>\n",
       "      <td>6.28M</td>\n",
       "      <td>58.96B</td>\n",
       "    </tr>\n",
       "  </tbody>\n",
       "</table>\n",
       "</div>"
      ],
      "text/plain": [
       "  Symbol                  Company Name Last Price Change % Change  \\\n",
       "1   AAPL                    Apple Inc.   117.8011  +0.29   +0.25%   \n",
       "2    BAC   Bank of America Corporation     24.175  +0.03   +0.14%   \n",
       "3   CHTR  Charter Communications, Inc.     607.65  -0.61   -0.10%   \n",
       "4   MDLZ  Mondelez International, Inc.     56.855  -0.13   -0.22%   \n",
       "5    USB                  U.S. Bancorp    39.1383  -0.07   -0.18%   \n",
       "\n",
       "    Market Time   Volume Avg Vol (3 month) Market cap  \n",
       "1  11:56 AM EDT   36.44M           174.07M  2,014.69B  \n",
       "2  11:56 AM EDT   17.62M            58.50M    209.39B  \n",
       "3  11:55 AM EDT  185.50k           918.68k    124.51B  \n",
       "4  11:56 AM EDT    1.47M             5.89M     81.21B  \n",
       "5  11:56 AM EDT    1.55M             6.28M     58.96B  "
      ]
     },
     "execution_count": 200,
     "metadata": {},
     "output_type": "execute_result"
    }
   ],
   "source": [
    "stock.head()"
   ]
  },
  {
   "cell_type": "code",
   "execution_count": 203,
   "metadata": {},
   "outputs": [
    {
     "data": {
      "text/plain": [
       "array(['AAPL', 'BAC', 'CHTR', 'MDLZ', 'USB', 'KHC', 'BK', 'DAL', 'STNE',\n",
       "       'LSXMK', 'MTB', 'LBTYA', 'DVA', 'GL', 'LILA', 'LILAK'],\n",
       "      dtype=object)"
      ]
     },
     "execution_count": 203,
     "metadata": {},
     "output_type": "execute_result"
    }
   ],
   "source": [
    "stock['Symbol'].unique()"
   ]
  },
  {
   "cell_type": "code",
   "execution_count": 202,
   "metadata": {},
   "outputs": [
    {
     "ename": "ValueError",
     "evalue": "could not convert string to float: 'AAPL'",
     "output_type": "error",
     "traceback": [
      "\u001b[1;31m---------------------------------------------------------------------------\u001b[0m",
      "\u001b[1;31mValueError\u001b[0m                                Traceback (most recent call last)",
      "\u001b[1;32m<ipython-input-202-465e3df52b21>\u001b[0m in \u001b[0;36m<module>\u001b[1;34m\u001b[0m\n\u001b[1;32m----> 1\u001b[1;33m \u001b[0msns\u001b[0m\u001b[1;33m.\u001b[0m\u001b[0mheatmap\u001b[0m\u001b[1;33m(\u001b[0m\u001b[0mdata\u001b[0m\u001b[1;33m=\u001b[0m\u001b[0mstock\u001b[0m\u001b[1;33m)\u001b[0m\u001b[1;33m\u001b[0m\u001b[1;33m\u001b[0m\u001b[0m\n\u001b[0m",
      "\u001b[1;32m~\\Desktop\\student_project\\env\\lib\\site-packages\\seaborn\\_decorators.py\u001b[0m in \u001b[0;36minner_f\u001b[1;34m(*args, **kwargs)\u001b[0m\n\u001b[0;32m     44\u001b[0m             )\n\u001b[0;32m     45\u001b[0m         \u001b[0mkwargs\u001b[0m\u001b[1;33m.\u001b[0m\u001b[0mupdate\u001b[0m\u001b[1;33m(\u001b[0m\u001b[1;33m{\u001b[0m\u001b[0mk\u001b[0m\u001b[1;33m:\u001b[0m \u001b[0marg\u001b[0m \u001b[1;32mfor\u001b[0m \u001b[0mk\u001b[0m\u001b[1;33m,\u001b[0m \u001b[0marg\u001b[0m \u001b[1;32min\u001b[0m \u001b[0mzip\u001b[0m\u001b[1;33m(\u001b[0m\u001b[0msig\u001b[0m\u001b[1;33m.\u001b[0m\u001b[0mparameters\u001b[0m\u001b[1;33m,\u001b[0m \u001b[0margs\u001b[0m\u001b[1;33m)\u001b[0m\u001b[1;33m}\u001b[0m\u001b[1;33m)\u001b[0m\u001b[1;33m\u001b[0m\u001b[1;33m\u001b[0m\u001b[0m\n\u001b[1;32m---> 46\u001b[1;33m         \u001b[1;32mreturn\u001b[0m \u001b[0mf\u001b[0m\u001b[1;33m(\u001b[0m\u001b[1;33m**\u001b[0m\u001b[0mkwargs\u001b[0m\u001b[1;33m)\u001b[0m\u001b[1;33m\u001b[0m\u001b[1;33m\u001b[0m\u001b[0m\n\u001b[0m\u001b[0;32m     47\u001b[0m     \u001b[1;32mreturn\u001b[0m \u001b[0minner_f\u001b[0m\u001b[1;33m\u001b[0m\u001b[1;33m\u001b[0m\u001b[0m\n\u001b[0;32m     48\u001b[0m \u001b[1;33m\u001b[0m\u001b[0m\n",
      "\u001b[1;32m~\\Desktop\\student_project\\env\\lib\\site-packages\\seaborn\\matrix.py\u001b[0m in \u001b[0;36mheatmap\u001b[1;34m(data, vmin, vmax, cmap, center, robust, annot, fmt, annot_kws, linewidths, linecolor, cbar, cbar_kws, cbar_ax, square, xticklabels, yticklabels, mask, ax, **kwargs)\u001b[0m\n\u001b[0;32m    543\u001b[0m     \"\"\"\n\u001b[0;32m    544\u001b[0m     \u001b[1;31m# Initialize the plotter object\u001b[0m\u001b[1;33m\u001b[0m\u001b[1;33m\u001b[0m\u001b[1;33m\u001b[0m\u001b[0m\n\u001b[1;32m--> 545\u001b[1;33m     plotter = _HeatMapper(data, vmin, vmax, cmap, center, robust, annot, fmt,\n\u001b[0m\u001b[0;32m    546\u001b[0m                           \u001b[0mannot_kws\u001b[0m\u001b[1;33m,\u001b[0m \u001b[0mcbar\u001b[0m\u001b[1;33m,\u001b[0m \u001b[0mcbar_kws\u001b[0m\u001b[1;33m,\u001b[0m \u001b[0mxticklabels\u001b[0m\u001b[1;33m,\u001b[0m\u001b[1;33m\u001b[0m\u001b[1;33m\u001b[0m\u001b[0m\n\u001b[0;32m    547\u001b[0m                           yticklabels, mask)\n",
      "\u001b[1;32m~\\Desktop\\student_project\\env\\lib\\site-packages\\seaborn\\matrix.py\u001b[0m in \u001b[0;36m__init__\u001b[1;34m(self, data, vmin, vmax, cmap, center, robust, annot, fmt, annot_kws, cbar, cbar_kws, xticklabels, yticklabels, mask)\u001b[0m\n\u001b[0;32m    163\u001b[0m \u001b[1;33m\u001b[0m\u001b[0m\n\u001b[0;32m    164\u001b[0m         \u001b[1;31m# Determine good default values for the colormapping\u001b[0m\u001b[1;33m\u001b[0m\u001b[1;33m\u001b[0m\u001b[1;33m\u001b[0m\u001b[0m\n\u001b[1;32m--> 165\u001b[1;33m         self._determine_cmap_params(plot_data, vmin, vmax,\n\u001b[0m\u001b[0;32m    166\u001b[0m                                     cmap, center, robust)\n\u001b[0;32m    167\u001b[0m \u001b[1;33m\u001b[0m\u001b[0m\n",
      "\u001b[1;32m~\\Desktop\\student_project\\env\\lib\\site-packages\\seaborn\\matrix.py\u001b[0m in \u001b[0;36m_determine_cmap_params\u001b[1;34m(self, plot_data, vmin, vmax, cmap, center, robust)\u001b[0m\n\u001b[0;32m    197\u001b[0m \u001b[1;33m\u001b[0m\u001b[0m\n\u001b[0;32m    198\u001b[0m         \u001b[1;31m# plot_data is a np.ma.array instance\u001b[0m\u001b[1;33m\u001b[0m\u001b[1;33m\u001b[0m\u001b[1;33m\u001b[0m\u001b[0m\n\u001b[1;32m--> 199\u001b[1;33m         \u001b[0mcalc_data\u001b[0m \u001b[1;33m=\u001b[0m \u001b[0mplot_data\u001b[0m\u001b[1;33m.\u001b[0m\u001b[0mastype\u001b[0m\u001b[1;33m(\u001b[0m\u001b[0mfloat\u001b[0m\u001b[1;33m)\u001b[0m\u001b[1;33m.\u001b[0m\u001b[0mfilled\u001b[0m\u001b[1;33m(\u001b[0m\u001b[0mnp\u001b[0m\u001b[1;33m.\u001b[0m\u001b[0mnan\u001b[0m\u001b[1;33m)\u001b[0m\u001b[1;33m\u001b[0m\u001b[1;33m\u001b[0m\u001b[0m\n\u001b[0m\u001b[0;32m    200\u001b[0m         \u001b[1;32mif\u001b[0m \u001b[0mvmin\u001b[0m \u001b[1;32mis\u001b[0m \u001b[1;32mNone\u001b[0m\u001b[1;33m:\u001b[0m\u001b[1;33m\u001b[0m\u001b[1;33m\u001b[0m\u001b[0m\n\u001b[0;32m    201\u001b[0m             \u001b[1;32mif\u001b[0m \u001b[0mrobust\u001b[0m\u001b[1;33m:\u001b[0m\u001b[1;33m\u001b[0m\u001b[1;33m\u001b[0m\u001b[0m\n",
      "\u001b[1;31mValueError\u001b[0m: could not convert string to float: 'AAPL'"
     ]
    }
   ],
   "source": [
    "sns.heatmap(data=stock)"
   ]
  },
  {
   "cell_type": "code",
   "execution_count": null,
   "metadata": {},
   "outputs": [],
   "source": []
  }
 ],
 "metadata": {
  "kernelspec": {
   "display_name": "Python 3",
   "language": "python",
   "name": "python3"
  },
  "language_info": {
   "codemirror_mode": {
    "name": "ipython",
    "version": 3
   },
   "file_extension": ".py",
   "mimetype": "text/x-python",
   "name": "python",
   "nbconvert_exporter": "python",
   "pygments_lexer": "ipython3",
   "version": "3.8.5"
  }
 },
 "nbformat": 4,
 "nbformat_minor": 4
}
