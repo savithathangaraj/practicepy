{
 "cells": [
  {
   "cell_type": "markdown",
   "metadata": {},
   "source": [
    "## web scarping"
   ]
  },
  {
   "cell_type": "code",
   "execution_count": 3,
   "metadata": {},
   "outputs": [
    {
     "name": "stdout",
     "output_type": "stream",
     "text": [
      "Collecting requests\n",
      "  Downloading requests-2.24.0-py2.py3-none-any.whl (61 kB)\n",
      "Collecting chardet<4,>=3.0.2\n",
      "  Downloading chardet-3.0.4-py2.py3-none-any.whl (133 kB)\n",
      "Requirement already satisfied: certifi>=2017.4.17 in c:\\users\\thangaraj\\desktop\\student_project\\env\\lib\\site-packages (from requests) (2020.6.20)\n",
      "Collecting urllib3!=1.25.0,!=1.25.1,<1.26,>=1.21.1\n",
      "  Downloading urllib3-1.25.11-py2.py3-none-any.whl (127 kB)\n",
      "Collecting idna<3,>=2.5\n",
      "  Downloading idna-2.10-py2.py3-none-any.whl (58 kB)\n",
      "Installing collected packages: chardet, urllib3, idna, requests\n",
      "Successfully installed chardet-3.0.4 idna-2.10 requests-2.24.0 urllib3-1.25.11\n"
     ]
    }
   ],
   "source": [
    "!pip install requests"
   ]
  },
  {
   "cell_type": "code",
   "execution_count": 6,
   "metadata": {},
   "outputs": [
    {
     "name": "stdout",
     "output_type": "stream",
     "text": [
      "Collecting beautifulsoup4\n",
      "  Downloading beautifulsoup4-4.9.3-py3-none-any.whl (115 kB)\n",
      "Collecting soupsieve>1.2; python_version >= \"3.0\"\n",
      "  Downloading soupsieve-2.0.1-py3-none-any.whl (32 kB)\n",
      "Installing collected packages: soupsieve, beautifulsoup4\n",
      "Successfully installed beautifulsoup4-4.9.3 soupsieve-2.0.1\n"
     ]
    }
   ],
   "source": [
    "!pip install beautifulsoup4"
   ]
  },
  {
   "cell_type": "code",
   "execution_count": 78,
   "metadata": {},
   "outputs": [
    {
     "name": "stdout",
     "output_type": "stream",
     "text": [
      "Collecting html5lib\n",
      "  Downloading html5lib-1.1-py2.py3-none-any.whl (112 kB)\n",
      "Requirement already satisfied: six>=1.9 in c:\\users\\thangaraj\\desktop\\student_project\\env\\lib\\site-packages (from html5lib) (1.15.0)\n",
      "Requirement already satisfied: webencodings in c:\\users\\thangaraj\\desktop\\student_project\\env\\lib\\site-packages (from html5lib) (0.5.1)\n",
      "Installing collected packages: html5lib\n",
      "Successfully installed html5lib-1.1\n"
     ]
    }
   ],
   "source": [
    "!pip install html5lib"
   ]
  },
  {
   "cell_type": "code",
   "execution_count": 205,
   "metadata": {},
   "outputs": [],
   "source": [
    "#importing required packages\n",
    "import numpy as np\n",
    "import matplotlib.pyplot as plt\n",
    "%matplotlib inline\n",
    "import pandas as pd\n",
    "import requests\n",
    "from bs4 import BeautifulSoup\n",
    "import seaborn as sns\n",
    "from sklearn import preprocessing"
   ]
  },
  {
   "cell_type": "code",
   "execution_count": 80,
   "metadata": {},
   "outputs": [],
   "source": [
    "#sending request to the server\n",
    "url='https://finance.yahoo.com/u/yahoo-finance/watchlists/the-berkshire-hathaway-portfolio?.tsrc=fin-srch'\n",
    "#assigning the requested value into a variable\n",
    "page=requests.get(url)\n",
    "#displying the variable's text,now we have the html data of the page\n",
    "# page.text"
   ]
  },
  {
   "cell_type": "code",
   "execution_count": 81,
   "metadata": {
    "scrolled": true
   },
   "outputs": [],
   "source": [
    "#now we will separate the data we need\n",
    "soup=BeautifulSoup(page.text,'html.parser')\n",
    "# soup.text#got only the details of page content excluding html"
   ]
  },
  {
   "cell_type": "code",
   "execution_count": 231,
   "metadata": {},
   "outputs": [
    {
     "name": "stdout",
     "output_type": "stream",
     "text": [
      "Watchlist\n",
      "Change Today\n",
      "1 Month Return\n",
      "1 Year Return\n",
      "Total Return\n",
      "Symbol\n",
      "Company Name\n",
      "Last Price\n",
      "Change\n",
      "% Change\n",
      "Market Time\n",
      "Volume\n",
      "Avg Vol (3 month)\n",
      "Market Cap\n"
     ]
    }
   ],
   "source": [
    "#extracting the header data\n",
    "for i in soup.select('th'):\n",
    "    print(i.text)\n"
   ]
  },
  {
   "cell_type": "code",
   "execution_count": 232,
   "metadata": {},
   "outputs": [
    {
     "name": "stdout",
     "output_type": "stream",
     "text": [
      "[]\n",
      "['AAPL', 'Apple Inc.', '117.8011', '+0.29', '+0.25%', '11:56 AM EDT', '36.44M', '174.07M', '2,014.69B']\n",
      "['BAC', 'Bank of America Corporation', '24.175', '+0.03', '+0.14%', '11:56 AM EDT', '17.62M', '58.50M', '209.39B']\n",
      "['CHTR', 'Charter Communications, Inc.', '607.65', '-0.61', '-0.10%', '11:55 AM EDT', '185.50k', '918.68k', '124.51B']\n",
      "['MDLZ', 'Mondelez International, Inc.', '56.855', '-0.13', '-0.22%', '11:56 AM EDT', '1.47M', '5.89M', '81.21B']\n",
      "['USB', 'U.S. Bancorp', '39.1383', '-0.07', '-0.18%', '11:56 AM EDT', '1.55M', '6.28M', '58.96B']\n",
      "['KHC', 'The Kraft Heinz Company', '31.6582', '-0.33', '-1.04%', '11:56 AM EDT', '917.53k', '6.03M', '38.70B']\n",
      "['BK', 'The Bank of New York Mellon Corporation', '37.24', '+0.14', '+0.38%', '11:56 AM EDT', '1.65M', '4.85M', '33.00B']\n",
      "['DAL', 'Delta Air Lines, Inc.', '31.71', '-0.27', '-0.84%', '11:56 AM EDT', '5.06M', '20.41M', '20.22B']\n",
      "['STNE', 'StoneCo Ltd.', '60.17', '+0.97', '+1.64%', '11:56 AM EDT', '724.60k', '2.55M', '18.58B']\n",
      "['LSXMK', 'The Liberty SiriusXM Group', '35.63', '+0.41', '+1.16%', '11:51 AM EDT', '170.42k', '831.10k', '13.73B']\n",
      "['MTB', 'M&T Bank Corporation', '100.105', '+0.69', '+0.69%', '11:56 AM EDT', '249.43k', '825.70k', '12.84B']\n",
      "['LBTYA', 'Liberty Global plc', '20.975', '-0.32', '-1.53%', '11:56 AM EDT', '314.06k', '1.28M', '12.36B']\n",
      "['DVA', 'DaVita Inc.', '89.895', '+0.19', '+0.22%', '11:56 AM EDT', '208.97k', '1.09M', '10.97B']\n",
      "['GL', 'Globe Life Inc.', '84.06', '+0.61', '+0.73%', '11:56 AM EDT', '98.17k', '475.46k', '8.95B']\n",
      "['LILA', 'Liberty Latin America Ltd.', '10.57', '-', '-', '11:50 AM EDT', '54.89k', '295.90k', '2.03B']\n",
      "['LILAK', 'Liberty Latin America Ltd.', '10.46', '-0.02', '-0.19%', '11:56 AM EDT', '261.74k', '1.49M', '2.01B']\n"
     ]
    }
   ],
   "source": [
    "#separating the data rows\n",
    "table = soup.find('table', attrs={'class':'cwl-symbols W(100%)'})\n",
    "table_rows = table.find_all('tr')\n",
    "\n",
    "for tr in table_rows:\n",
    "    td = tr.find_all('td')\n",
    "    row = [tr.text for tr in td]\n",
    "    print(row) \n"
   ]
  },
  {
   "cell_type": "code",
   "execution_count": 233,
   "metadata": {},
   "outputs": [],
   "source": [
    "#creating a dataframe and putting them into a dataframe\n",
    "l = []\n",
    "for tr in table_rows:\n",
    "   \n",
    "    td = tr.find_all('td')\n",
    "    row = [tr.text for tr in td]\n",
    "    l.append(row)\n",
    "stock=pd.DataFrame(l, columns=['Symbol','Company Name','Last Price','Change','% Change','Market Time','Volume','Avg Vol (3 month)','Market cap'])"
   ]
  },
  {
   "cell_type": "code",
   "execution_count": 234,
   "metadata": {},
   "outputs": [
    {
     "data": {
      "text/html": [
       "<div>\n",
       "<style scoped>\n",
       "    .dataframe tbody tr th:only-of-type {\n",
       "        vertical-align: middle;\n",
       "    }\n",
       "\n",
       "    .dataframe tbody tr th {\n",
       "        vertical-align: top;\n",
       "    }\n",
       "\n",
       "    .dataframe thead th {\n",
       "        text-align: right;\n",
       "    }\n",
       "</style>\n",
       "<table border=\"1\" class=\"dataframe\">\n",
       "  <thead>\n",
       "    <tr style=\"text-align: right;\">\n",
       "      <th></th>\n",
       "      <th>Symbol</th>\n",
       "      <th>Company Name</th>\n",
       "      <th>Last Price</th>\n",
       "      <th>Change</th>\n",
       "      <th>% Change</th>\n",
       "      <th>Market Time</th>\n",
       "      <th>Volume</th>\n",
       "      <th>Avg Vol (3 month)</th>\n",
       "      <th>Market cap</th>\n",
       "    </tr>\n",
       "  </thead>\n",
       "  <tbody>\n",
       "    <tr>\n",
       "      <th>0</th>\n",
       "      <td>None</td>\n",
       "      <td>None</td>\n",
       "      <td>None</td>\n",
       "      <td>None</td>\n",
       "      <td>None</td>\n",
       "      <td>None</td>\n",
       "      <td>None</td>\n",
       "      <td>None</td>\n",
       "      <td>None</td>\n",
       "    </tr>\n",
       "    <tr>\n",
       "      <th>1</th>\n",
       "      <td>AAPL</td>\n",
       "      <td>Apple Inc.</td>\n",
       "      <td>117.8011</td>\n",
       "      <td>+0.29</td>\n",
       "      <td>+0.25%</td>\n",
       "      <td>11:56 AM EDT</td>\n",
       "      <td>36.44M</td>\n",
       "      <td>174.07M</td>\n",
       "      <td>2,014.69B</td>\n",
       "    </tr>\n",
       "    <tr>\n",
       "      <th>2</th>\n",
       "      <td>BAC</td>\n",
       "      <td>Bank of America Corporation</td>\n",
       "      <td>24.175</td>\n",
       "      <td>+0.03</td>\n",
       "      <td>+0.14%</td>\n",
       "      <td>11:56 AM EDT</td>\n",
       "      <td>17.62M</td>\n",
       "      <td>58.50M</td>\n",
       "      <td>209.39B</td>\n",
       "    </tr>\n",
       "    <tr>\n",
       "      <th>3</th>\n",
       "      <td>CHTR</td>\n",
       "      <td>Charter Communications, Inc.</td>\n",
       "      <td>607.65</td>\n",
       "      <td>-0.61</td>\n",
       "      <td>-0.10%</td>\n",
       "      <td>11:55 AM EDT</td>\n",
       "      <td>185.50k</td>\n",
       "      <td>918.68k</td>\n",
       "      <td>124.51B</td>\n",
       "    </tr>\n",
       "    <tr>\n",
       "      <th>4</th>\n",
       "      <td>MDLZ</td>\n",
       "      <td>Mondelez International, Inc.</td>\n",
       "      <td>56.855</td>\n",
       "      <td>-0.13</td>\n",
       "      <td>-0.22%</td>\n",
       "      <td>11:56 AM EDT</td>\n",
       "      <td>1.47M</td>\n",
       "      <td>5.89M</td>\n",
       "      <td>81.21B</td>\n",
       "    </tr>\n",
       "  </tbody>\n",
       "</table>\n",
       "</div>"
      ],
      "text/plain": [
       "  Symbol                  Company Name Last Price Change % Change  \\\n",
       "0   None                          None       None   None     None   \n",
       "1   AAPL                    Apple Inc.   117.8011  +0.29   +0.25%   \n",
       "2    BAC   Bank of America Corporation     24.175  +0.03   +0.14%   \n",
       "3   CHTR  Charter Communications, Inc.     607.65  -0.61   -0.10%   \n",
       "4   MDLZ  Mondelez International, Inc.     56.855  -0.13   -0.22%   \n",
       "\n",
       "    Market Time   Volume Avg Vol (3 month) Market cap  \n",
       "0          None     None              None       None  \n",
       "1  11:56 AM EDT   36.44M           174.07M  2,014.69B  \n",
       "2  11:56 AM EDT   17.62M            58.50M    209.39B  \n",
       "3  11:55 AM EDT  185.50k           918.68k    124.51B  \n",
       "4  11:56 AM EDT    1.47M             5.89M     81.21B  "
      ]
     },
     "execution_count": 234,
     "metadata": {},
     "output_type": "execute_result"
    }
   ],
   "source": [
    "stock.head()#finally prepared out dataframes"
   ]
  },
  {
   "cell_type": "code",
   "execution_count": 235,
   "metadata": {},
   "outputs": [
    {
     "data": {
      "text/html": [
       "<div>\n",
       "<style scoped>\n",
       "    .dataframe tbody tr th:only-of-type {\n",
       "        vertical-align: middle;\n",
       "    }\n",
       "\n",
       "    .dataframe tbody tr th {\n",
       "        vertical-align: top;\n",
       "    }\n",
       "\n",
       "    .dataframe thead th {\n",
       "        text-align: right;\n",
       "    }\n",
       "</style>\n",
       "<table border=\"1\" class=\"dataframe\">\n",
       "  <thead>\n",
       "    <tr style=\"text-align: right;\">\n",
       "      <th></th>\n",
       "      <th>Symbol</th>\n",
       "      <th>Company Name</th>\n",
       "      <th>Last Price</th>\n",
       "      <th>Change</th>\n",
       "      <th>% Change</th>\n",
       "      <th>Market Time</th>\n",
       "      <th>Volume</th>\n",
       "      <th>Avg Vol (3 month)</th>\n",
       "      <th>Market cap</th>\n",
       "    </tr>\n",
       "  </thead>\n",
       "  <tbody>\n",
       "    <tr>\n",
       "      <th>count</th>\n",
       "      <td>16</td>\n",
       "      <td>16</td>\n",
       "      <td>16</td>\n",
       "      <td>16</td>\n",
       "      <td>16</td>\n",
       "      <td>16</td>\n",
       "      <td>16</td>\n",
       "      <td>16</td>\n",
       "      <td>16</td>\n",
       "    </tr>\n",
       "    <tr>\n",
       "      <th>unique</th>\n",
       "      <td>16</td>\n",
       "      <td>15</td>\n",
       "      <td>16</td>\n",
       "      <td>16</td>\n",
       "      <td>16</td>\n",
       "      <td>4</td>\n",
       "      <td>16</td>\n",
       "      <td>16</td>\n",
       "      <td>16</td>\n",
       "    </tr>\n",
       "    <tr>\n",
       "      <th>top</th>\n",
       "      <td>MTB</td>\n",
       "      <td>Liberty Latin America Ltd.</td>\n",
       "      <td>35.63</td>\n",
       "      <td>+0.03</td>\n",
       "      <td>+0.14%</td>\n",
       "      <td>11:56 AM EDT</td>\n",
       "      <td>98.17k</td>\n",
       "      <td>20.41M</td>\n",
       "      <td>20.22B</td>\n",
       "    </tr>\n",
       "    <tr>\n",
       "      <th>freq</th>\n",
       "      <td>1</td>\n",
       "      <td>2</td>\n",
       "      <td>1</td>\n",
       "      <td>1</td>\n",
       "      <td>1</td>\n",
       "      <td>13</td>\n",
       "      <td>1</td>\n",
       "      <td>1</td>\n",
       "      <td>1</td>\n",
       "    </tr>\n",
       "  </tbody>\n",
       "</table>\n",
       "</div>"
      ],
      "text/plain": [
       "       Symbol                Company Name Last Price Change % Change  \\\n",
       "count      16                          16         16     16       16   \n",
       "unique     16                          15         16     16       16   \n",
       "top       MTB  Liberty Latin America Ltd.      35.63  +0.03   +0.14%   \n",
       "freq        1                           2          1      1        1   \n",
       "\n",
       "         Market Time  Volume Avg Vol (3 month) Market cap  \n",
       "count             16      16                16         16  \n",
       "unique             4      16                16         16  \n",
       "top     11:56 AM EDT  98.17k            20.41M     20.22B  \n",
       "freq              13       1                 1          1  "
      ]
     },
     "execution_count": 235,
     "metadata": {},
     "output_type": "execute_result"
    }
   ],
   "source": [
    "stock.describe()"
   ]
  },
  {
   "cell_type": "code",
   "execution_count": 236,
   "metadata": {},
   "outputs": [
    {
     "data": {
      "text/plain": [
       "Symbol               1\n",
       "Company Name         1\n",
       "Last Price           1\n",
       "Change               1\n",
       "% Change             1\n",
       "Market Time          1\n",
       "Volume               1\n",
       "Avg Vol (3 month)    1\n",
       "Market cap           1\n",
       "dtype: int64"
      ]
     },
     "execution_count": 236,
     "metadata": {},
     "output_type": "execute_result"
    }
   ],
   "source": [
    "stock.isna().sum()"
   ]
  },
  {
   "cell_type": "code",
   "execution_count": 237,
   "metadata": {},
   "outputs": [],
   "source": [
    "stock.dropna(inplace=True)"
   ]
  },
  {
   "cell_type": "code",
   "execution_count": 238,
   "metadata": {},
   "outputs": [
    {
     "data": {
      "text/plain": [
       "Symbol               0\n",
       "Company Name         0\n",
       "Last Price           0\n",
       "Change               0\n",
       "% Change             0\n",
       "Market Time          0\n",
       "Volume               0\n",
       "Avg Vol (3 month)    0\n",
       "Market cap           0\n",
       "dtype: int64"
      ]
     },
     "execution_count": 238,
     "metadata": {},
     "output_type": "execute_result"
    }
   ],
   "source": [
    "stock.isna().sum()"
   ]
  },
  {
   "cell_type": "code",
   "execution_count": 239,
   "metadata": {},
   "outputs": [
    {
     "data": {
      "text/html": [
       "<div>\n",
       "<style scoped>\n",
       "    .dataframe tbody tr th:only-of-type {\n",
       "        vertical-align: middle;\n",
       "    }\n",
       "\n",
       "    .dataframe tbody tr th {\n",
       "        vertical-align: top;\n",
       "    }\n",
       "\n",
       "    .dataframe thead th {\n",
       "        text-align: right;\n",
       "    }\n",
       "</style>\n",
       "<table border=\"1\" class=\"dataframe\">\n",
       "  <thead>\n",
       "    <tr style=\"text-align: right;\">\n",
       "      <th></th>\n",
       "      <th>Symbol</th>\n",
       "      <th>Company Name</th>\n",
       "      <th>Last Price</th>\n",
       "      <th>Change</th>\n",
       "      <th>% Change</th>\n",
       "      <th>Market Time</th>\n",
       "      <th>Volume</th>\n",
       "      <th>Avg Vol (3 month)</th>\n",
       "      <th>Market cap</th>\n",
       "    </tr>\n",
       "  </thead>\n",
       "  <tbody>\n",
       "    <tr>\n",
       "      <th>1</th>\n",
       "      <td>AAPL</td>\n",
       "      <td>Apple Inc.</td>\n",
       "      <td>117.8011</td>\n",
       "      <td>+0.29</td>\n",
       "      <td>+0.25%</td>\n",
       "      <td>11:56 AM EDT</td>\n",
       "      <td>36.44M</td>\n",
       "      <td>174.07M</td>\n",
       "      <td>2,014.69B</td>\n",
       "    </tr>\n",
       "    <tr>\n",
       "      <th>2</th>\n",
       "      <td>BAC</td>\n",
       "      <td>Bank of America Corporation</td>\n",
       "      <td>24.175</td>\n",
       "      <td>+0.03</td>\n",
       "      <td>+0.14%</td>\n",
       "      <td>11:56 AM EDT</td>\n",
       "      <td>17.62M</td>\n",
       "      <td>58.50M</td>\n",
       "      <td>209.39B</td>\n",
       "    </tr>\n",
       "    <tr>\n",
       "      <th>3</th>\n",
       "      <td>CHTR</td>\n",
       "      <td>Charter Communications, Inc.</td>\n",
       "      <td>607.65</td>\n",
       "      <td>-0.61</td>\n",
       "      <td>-0.10%</td>\n",
       "      <td>11:55 AM EDT</td>\n",
       "      <td>185.50k</td>\n",
       "      <td>918.68k</td>\n",
       "      <td>124.51B</td>\n",
       "    </tr>\n",
       "    <tr>\n",
       "      <th>4</th>\n",
       "      <td>MDLZ</td>\n",
       "      <td>Mondelez International, Inc.</td>\n",
       "      <td>56.855</td>\n",
       "      <td>-0.13</td>\n",
       "      <td>-0.22%</td>\n",
       "      <td>11:56 AM EDT</td>\n",
       "      <td>1.47M</td>\n",
       "      <td>5.89M</td>\n",
       "      <td>81.21B</td>\n",
       "    </tr>\n",
       "    <tr>\n",
       "      <th>5</th>\n",
       "      <td>USB</td>\n",
       "      <td>U.S. Bancorp</td>\n",
       "      <td>39.1383</td>\n",
       "      <td>-0.07</td>\n",
       "      <td>-0.18%</td>\n",
       "      <td>11:56 AM EDT</td>\n",
       "      <td>1.55M</td>\n",
       "      <td>6.28M</td>\n",
       "      <td>58.96B</td>\n",
       "    </tr>\n",
       "  </tbody>\n",
       "</table>\n",
       "</div>"
      ],
      "text/plain": [
       "  Symbol                  Company Name Last Price Change % Change  \\\n",
       "1   AAPL                    Apple Inc.   117.8011  +0.29   +0.25%   \n",
       "2    BAC   Bank of America Corporation     24.175  +0.03   +0.14%   \n",
       "3   CHTR  Charter Communications, Inc.     607.65  -0.61   -0.10%   \n",
       "4   MDLZ  Mondelez International, Inc.     56.855  -0.13   -0.22%   \n",
       "5    USB                  U.S. Bancorp    39.1383  -0.07   -0.18%   \n",
       "\n",
       "    Market Time   Volume Avg Vol (3 month) Market cap  \n",
       "1  11:56 AM EDT   36.44M           174.07M  2,014.69B  \n",
       "2  11:56 AM EDT   17.62M            58.50M    209.39B  \n",
       "3  11:55 AM EDT  185.50k           918.68k    124.51B  \n",
       "4  11:56 AM EDT    1.47M             5.89M     81.21B  \n",
       "5  11:56 AM EDT    1.55M             6.28M     58.96B  "
      ]
     },
     "execution_count": 239,
     "metadata": {},
     "output_type": "execute_result"
    }
   ],
   "source": [
    "stock.head()"
   ]
  },
  {
   "cell_type": "code",
   "execution_count": 240,
   "metadata": {},
   "outputs": [
    {
     "data": {
      "text/plain": [
       "array(['AAPL', 'BAC', 'CHTR', 'MDLZ', 'USB', 'KHC', 'BK', 'DAL', 'STNE',\n",
       "       'LSXMK', 'MTB', 'LBTYA', 'DVA', 'GL', 'LILA', 'LILAK'],\n",
       "      dtype=object)"
      ]
     },
     "execution_count": 240,
     "metadata": {},
     "output_type": "execute_result"
    }
   ],
   "source": [
    "stock['Symbol'].unique()"
   ]
  },
  {
   "cell_type": "code",
   "execution_count": 241,
   "metadata": {},
   "outputs": [
    {
     "data": {
      "text/html": [
       "<div>\n",
       "<style scoped>\n",
       "    .dataframe tbody tr th:only-of-type {\n",
       "        vertical-align: middle;\n",
       "    }\n",
       "\n",
       "    .dataframe tbody tr th {\n",
       "        vertical-align: top;\n",
       "    }\n",
       "\n",
       "    .dataframe thead th {\n",
       "        text-align: right;\n",
       "    }\n",
       "</style>\n",
       "<table border=\"1\" class=\"dataframe\">\n",
       "  <thead>\n",
       "    <tr style=\"text-align: right;\">\n",
       "      <th></th>\n",
       "      <th>Symbol</th>\n",
       "      <th>Last Price</th>\n",
       "      <th>Change</th>\n",
       "      <th>% Change</th>\n",
       "      <th>Market Time</th>\n",
       "      <th>Volume</th>\n",
       "      <th>Avg Vol (3 month)</th>\n",
       "      <th>Market cap</th>\n",
       "    </tr>\n",
       "  </thead>\n",
       "  <tbody>\n",
       "    <tr>\n",
       "      <th>1</th>\n",
       "      <td>AAPL</td>\n",
       "      <td>117.8011</td>\n",
       "      <td>+0.29</td>\n",
       "      <td>+0.25%</td>\n",
       "      <td>11:56 AM EDT</td>\n",
       "      <td>36.44M</td>\n",
       "      <td>174.07M</td>\n",
       "      <td>2,014.69B</td>\n",
       "    </tr>\n",
       "    <tr>\n",
       "      <th>2</th>\n",
       "      <td>BAC</td>\n",
       "      <td>24.175</td>\n",
       "      <td>+0.03</td>\n",
       "      <td>+0.14%</td>\n",
       "      <td>11:56 AM EDT</td>\n",
       "      <td>17.62M</td>\n",
       "      <td>58.50M</td>\n",
       "      <td>209.39B</td>\n",
       "    </tr>\n",
       "    <tr>\n",
       "      <th>3</th>\n",
       "      <td>CHTR</td>\n",
       "      <td>607.65</td>\n",
       "      <td>-0.61</td>\n",
       "      <td>-0.10%</td>\n",
       "      <td>11:55 AM EDT</td>\n",
       "      <td>185.50k</td>\n",
       "      <td>918.68k</td>\n",
       "      <td>124.51B</td>\n",
       "    </tr>\n",
       "    <tr>\n",
       "      <th>4</th>\n",
       "      <td>MDLZ</td>\n",
       "      <td>56.855</td>\n",
       "      <td>-0.13</td>\n",
       "      <td>-0.22%</td>\n",
       "      <td>11:56 AM EDT</td>\n",
       "      <td>1.47M</td>\n",
       "      <td>5.89M</td>\n",
       "      <td>81.21B</td>\n",
       "    </tr>\n",
       "    <tr>\n",
       "      <th>5</th>\n",
       "      <td>USB</td>\n",
       "      <td>39.1383</td>\n",
       "      <td>-0.07</td>\n",
       "      <td>-0.18%</td>\n",
       "      <td>11:56 AM EDT</td>\n",
       "      <td>1.55M</td>\n",
       "      <td>6.28M</td>\n",
       "      <td>58.96B</td>\n",
       "    </tr>\n",
       "  </tbody>\n",
       "</table>\n",
       "</div>"
      ],
      "text/plain": [
       "  Symbol Last Price Change % Change   Market Time   Volume Avg Vol (3 month)  \\\n",
       "1   AAPL   117.8011  +0.29   +0.25%  11:56 AM EDT   36.44M           174.07M   \n",
       "2    BAC     24.175  +0.03   +0.14%  11:56 AM EDT   17.62M            58.50M   \n",
       "3   CHTR     607.65  -0.61   -0.10%  11:55 AM EDT  185.50k           918.68k   \n",
       "4   MDLZ     56.855  -0.13   -0.22%  11:56 AM EDT    1.47M             5.89M   \n",
       "5    USB    39.1383  -0.07   -0.18%  11:56 AM EDT    1.55M             6.28M   \n",
       "\n",
       "  Market cap  \n",
       "1  2,014.69B  \n",
       "2    209.39B  \n",
       "3    124.51B  \n",
       "4     81.21B  \n",
       "5     58.96B  "
      ]
     },
     "execution_count": 241,
     "metadata": {},
     "output_type": "execute_result"
    }
   ],
   "source": [
    "x=stock.drop('Company Name',axis=1)\n",
    "x.head()"
   ]
  },
  {
   "cell_type": "code",
   "execution_count": 242,
   "metadata": {},
   "outputs": [
    {
     "data": {
      "text/plain": [
       "array([ 0,  1,  3, 12, 15,  7,  2,  4, 14, 11, 13,  8,  5,  6,  9, 10])"
      ]
     },
     "execution_count": 242,
     "metadata": {},
     "output_type": "execute_result"
    }
   ],
   "source": [
    "label_encoder=preprocessing.LabelEncoder()\n",
    "x['Symbol']=label_encoder.fit_transform(x['Symbol'])\n",
    "x['Symbol'].unique()"
   ]
  },
  {
   "cell_type": "code",
   "execution_count": 260,
   "metadata": {},
   "outputs": [
    {
     "name": "stderr",
     "output_type": "stream",
     "text": [
      "No handles with labels found to put in legend.\n"
     ]
    },
    {
     "data": {
      "image/png": "[encoded data removed]",
      "text/plain": [
       "<Figure size 720x432 with 1 Axes>"
      ]
     },
     "metadata": {
      "needs_background": "light"
     },
     "output_type": "display_data"
    }
   ],
   "source": [
    "plt.subplots(figsize=(10,6))\n",
    "plt.bar(stock[\"Symbol\"],stock['Last Price']);\n",
    "plt.title(\"stock market price prediction\")\n",
    "plt.xlabel(\"companies\")\n",
    "plt.ylabel(\"price rate\")\n",
    "plt.legend();"
   ]
  },
  {
   "cell_type": "code",
   "execution_count": 264,
   "metadata": {},
   "outputs": [
    {
     "data": {
      "text/plain": [
       "<AxesSubplot:>"
      ]
     },
     "execution_count": 264,
     "metadata": {},
     "output_type": "execute_result"
    },
    {
     "data": {
      "image/png": "[encoded data removed]",
      "text/plain": [
       "<Figure size 432x288 with 1 Axes>"
      ]
     },
     "metadata": {
      "needs_background": "light"
     },
     "output_type": "display_data"
    }
   ],
   "source": [
    "stock[\"Volume\"].hist()"
   ]
  },
  {
   "cell_type": "code",
   "execution_count": 272,
   "metadata": {},
   "outputs": [
    {
     "data": {
      "text/plain": [
       "<AxesSubplot:>"
      ]
     },
     "execution_count": 272,
     "metadata": {},
     "output_type": "execute_result"
    },
    {
     "data": {
      "image/png": "[encoded data removed]",
      "text/plain": [
       "<Figure size 432x288 with 1 Axes>"
      ]
     },
     "metadata": {
      "needs_background": "light"
     },
     "output_type": "display_data"
    }
   ],
   "source": [
    "stock['Last Price'].hist()"
   ]
  },
  {
   "cell_type": "code",
   "execution_count": null,
   "metadata": {},
   "outputs": [],
   "source": []
  }
 ],
 "metadata": {
  "kernelspec": {
   "display_name": "Python 3",
   "language": "python",
   "name": "python3"
  },
  "language_info": {
   "codemirror_mode": {
    "name": "ipython",
    "version": 3
   },
   "file_extension": ".py",
   "mimetype": "text/x-python",
   "name": "python",
   "nbconvert_exporter": "python",
   "pygments_lexer": "ipython3",
   "version": "3.8.5"
  }
 },
 "nbformat": 4,
 "nbformat_minor": 4
}
